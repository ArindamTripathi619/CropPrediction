{
  "cells": [
    {
      "cell_type": "markdown",
      "metadata": {},
      "source": [
        "# Model Evaluation\n",
        "\n",
        "This notebook evaluates the performance of trained models.\n"
      ]
    },
    {
      "cell_type": "code",
      "execution_count": null,
      "metadata": {},
      "outputs": [],
      "source": [
        "import sys\n",
        "from pathlib import Path\n",
        "sys.path.append(str(Path('..')))\n",
        "\n",
        "from src.models.crop_model import CropRecommendationModel\n",
        "from src.utils.config import get_config\n",
        "import pandas as pd\n",
        "\n",
        "# Load model and evaluate\n",
        "# This notebook will be expanded after models are trained\n"
      ]
    }
  ],
  "metadata": {
    "language_info": {
      "name": "python"
    }
  },
  "nbformat": 4,
  "nbformat_minor": 2
}
