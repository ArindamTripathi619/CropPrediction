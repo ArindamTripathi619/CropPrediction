{
  "cells": [
    {
      "cell_type": "markdown",
      "metadata": {},
      "source": [
        "# Model Training\n",
        "\n",
        "This notebook demonstrates the training process for all models. Use the training pipeline: `python -m src.training.train`\n"
      ]
    },
    {
      "cell_type": "code",
      "execution_count": null,
      "metadata": {},
      "outputs": [],
      "source": [
        "# Training is done via command line\n",
        "# Run: python -m src.training.train\n",
        "# Or import and use directly:\n",
        "from src.training.train import train_all_models\n",
        "\n",
        "# Train all models\n",
        "# train_all_models()\n"
      ]
    }
  ],
  "metadata": {
    "language_info": {
      "name": "python"
    }
  },
  "nbformat": 4,
  "nbformat_minor": 2
}
